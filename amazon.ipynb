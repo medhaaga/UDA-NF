{
 "cells": [
  {
   "cell_type": "markdown",
   "metadata": {},
   "source": [
    "## Unsupervised Domain Adaptation on Amazon Review Dataset\n",
    "\n",
    "**Author**: Medha Agarwal \n",
    "\n",
    "**Last modified**: 03/03/2024\n",
    "\n",
    "In this notebook, we use normalizing flows for unconstrained domain adaptation of Amazon reviews dataset. In this setting, the source domain is denoted by $\\mathcal{S} = (\\mathcal{X}_S, \\mathcal{C})$ where $\\mathcal{X}_S$ is the domain of source features and $\\mathcal{C}$ is the space of classes. Similarly, $\\mathcal{T} = (\\mathcal{X}_T, \\mathcal{C})$ is the target domain. Define the random variables $(X_S, Y_S)$ on $\\mathcal{S}$ where $X_S$ is the random variable denoting source covariates and $Y_S$ are source labels. Similarly $(X_T,Y_T)$ denotes similar quantities for the target domain. In an unsupervised domain adaptation setting, we have labelled samples from the source domain, denoted by $\\mathcal{D}_S = \\{(x_i^S, y_i^S)\\}_{i=1}^{n_S}$ and unlabelled samples from the target domain denoted by $\\mathcal{D}_T = \\{x_i^T\\}_{i=1}^{n_T}$. The goal is to learn a classifier $\\hat f_T: \\mathcal{X}_T \\to \\mathcal{C}$ using only $\\mathcal{D}_S$ and $\\mathcal{D}_T$. In this notebook, this problem is solved via the following string of operations:\n",
    "\n",
    "1. Finetune the BERT model on a subset of 10,000 samples from the WILDS Amazon Reviews benchmark dataset with the empirical risk minimization objective.\n",
    "2. Apply the network to another held-out training sample of 10,000 examples from one domain, as well as validation and test sets of size 10,000 each from another domain.\n",
    "3. Apply PCA on train covariates for dimension reduction.\n",
    "3. Use the penultimate layer of the network outputs to generate frozen feature representations of the train, validation, and test sets described above.\n",
    "4. Learn a diffeomorphism between the empirical distribution of training covariates and Gaussian distribution. \n",
    "5. Learn another diffeomorphism between the empirical distribution of test and validation covariates and Gaussian distribution. "
   ]
  },
  {
   "cell_type": "code",
   "execution_count": 1,
   "metadata": {},
   "outputs": [],
   "source": [
    "%%capture\n",
    "\n",
    "!pip install wilds\n",
    "!pip install transformers"
   ]
  },
  {
   "cell_type": "code",
   "execution_count": 1,
   "metadata": {},
   "outputs": [],
   "source": [
    "from wilds import get_dataset\n",
    "from wilds.common.data_loaders import get_train_loader\n",
    "\n",
    "import numpy as np\n",
    "import torch\n",
    "from torch import nn, optim\n",
    "from torchvision import datasets, transforms\n",
    "from tqdm import tqdm\n",
    "import datetime\n",
    "import time\n",
    "import random\n",
    "import pickle\n",
    "import os\n",
    "\n",
    "\n",
    "from matplotlib import pyplot as plt\n",
    "\n",
    "from normalizing_flow import MAF, MADE\n",
    "from utils import (format_time,\n",
    "                    train_one_epoch_maf,\n",
    "                    train_one_epoch_made,\n",
    "                    test_maf, test_made,\n",
    "                    val_maf, val_made)\n",
    "from transformers import AutoTokenizer, BertForSequenceClassification, AdamW, BertConfig, get_linear_schedule_with_warmup\n",
    "from torch.utils.data import DataLoader, RandomSampler, SequentialSampler, Dataset, TensorDataset\n",
    "from sklearn.metrics import accuracy_score"
   ]
  },
  {
   "cell_type": "markdown",
   "metadata": {},
   "source": [
    "Let us load the embeddings of train and test dataset into memory."
   ]
  },
  {
   "cell_type": "code",
   "execution_count": 2,
   "metadata": {},
   "outputs": [
    {
     "name": "stdout",
     "output_type": "stream",
     "text": [
      "(5000, 16) (2500, 16)\n",
      "(5000, 16) (2500, 16)\n"
     ]
    }
   ],
   "source": [
    "DATASET_PATH = '/mnt/ssd/medhaaga/CSE599/data'\n",
    "EPOCHS = 200\n",
    "BATCH_SIZE = 64\n",
    "dataset = \"amazon_data\"\n",
    "os.makedirs(os.path.join(DATASET_PATH, f\"{dataset}\"), exist_ok=True)\n",
    "\n",
    "X_train_source = np.load(os.path.join(DATASET_PATH, f\"{dataset}/x_train_source.npy\"))\n",
    "y_train_source = np.load(os.path.join(DATASET_PATH, f\"{dataset}/y_train_source.npy\"))\n",
    "\n",
    "X_train_target = np.load(os.path.join(DATASET_PATH, f\"{dataset}/x_train_target.npy\"))\n",
    "y_train_target = np.load(os.path.join(DATASET_PATH, f\"{dataset}/y_train_target.npy\"))\n",
    "\n",
    "X_test_source = np.load(os.path.join(DATASET_PATH, f\"{dataset}/x_test_source.npy\"))\n",
    "y_test_source = np.load(os.path.join(DATASET_PATH, f\"{dataset}/y_test_source.npy\"))\n",
    "\n",
    "X_test_target = np.load(os.path.join(DATASET_PATH, f\"{dataset}/x_test_target.npy\"))\n",
    "y_test_target = np.load(os.path.join(DATASET_PATH, f\"{dataset}/y_test_target.npy\"))\n",
    "\n",
    "print(X_train_source.shape, X_test_source.shape)\n",
    "print(X_train_target.shape, X_test_target.shape)\n"
   ]
  },
  {
   "cell_type": "markdown",
   "metadata": {},
   "source": [
    "Let us standardize the features for efficient transfer to Gaussian distribution later."
   ]
  },
  {
   "cell_type": "code",
   "execution_count": 3,
   "metadata": {},
   "outputs": [],
   "source": [
    "X_train_source = (X_train_source - np.mean(X_train_source, axis=0, keepdims=True))/np.std(X_train_source, axis=0, keepdims=True)\n",
    "X_train_target = (X_train_target - np.mean(X_train_target, axis=0, keepdims=True))/np.std(X_train_target, axis=0, keepdims=True)\n",
    "X_test_source = (X_test_source - np.mean(X_test_source, axis=0, keepdims=True))/np.std(X_test_source, axis=0, keepdims=True)\n",
    "X_test_target = (X_test_target - np.mean(X_test_target, axis=0, keepdims=True))/np.std(X_test_target, axis=0, keepdims=True)"
   ]
  },
  {
   "cell_type": "code",
   "execution_count": 4,
   "metadata": {},
   "outputs": [],
   "source": [
    "train_source_dataset = TensorDataset(torch.Tensor(X_train_source), torch.Tensor(y_train_source).to(torch.long))\n",
    "train_target_dataset = TensorDataset(torch.Tensor(X_train_target), torch.Tensor(y_train_target).to(torch.long))\n",
    "test_source_dataset = TensorDataset(torch.Tensor(X_test_source), torch.Tensor(y_test_source).to(torch.long))\n",
    "test_target_dataset = TensorDataset(torch.Tensor(X_test_target), torch.Tensor(y_test_target).to(torch.long))"
   ]
  },
  {
   "cell_type": "code",
   "execution_count": 5,
   "metadata": {},
   "outputs": [],
   "source": [
    "train_source_loader = torch.utils.data.DataLoader(train_source_dataset, batch_size=BATCH_SIZE, shuffle=True)\n",
    "train_target_loader = torch.utils.data.DataLoader(train_target_dataset, batch_size=BATCH_SIZE, shuffle=True)\n",
    "test_source_loader = torch.utils.data.DataLoader(test_source_dataset, batch_size=BATCH_SIZE, shuffle=True)\n",
    "test_target_loader = torch.utils.data.DataLoader(test_target_dataset, batch_size=BATCH_SIZE, shuffle=True)"
   ]
  },
  {
   "cell_type": "markdown",
   "metadata": {},
   "source": [
    "## Learn a classifier on source data"
   ]
  },
  {
   "cell_type": "code",
   "execution_count": 6,
   "metadata": {},
   "outputs": [],
   "source": [
    "class TextClassificationModel(nn.Module):\n",
    "    def __init__(self, embedding_size, hidden_size=32):\n",
    "\n",
    "        super(TextClassificationModel, self).__init__()\n",
    "        self.fc1 = nn.Linear(embedding_size, hidden_size)\n",
    "        self.relu = nn.ReLU()\n",
    "        self.fc2 = nn.Linear(hidden_size, 1)\n",
    "        self.sigmoid = nn.Sigmoid()\n",
    "\n",
    "    def forward(self, x):\n",
    "        x = self.fc1(x)\n",
    "        x = self.relu(x)\n",
    "        x = self.fc2(x)\n",
    "        x = self.sigmoid(x)\n",
    "        return x"
   ]
  },
  {
   "cell_type": "code",
   "execution_count": 7,
   "metadata": {},
   "outputs": [],
   "source": [
    "# Function for training the model\n",
    "def train(model, dataloader, criterion, optimizer, device):\n",
    "    model.train()\n",
    "    running_loss = 0.0\n",
    "    correct_predictions = 0\n",
    "\n",
    "    for inputs, labels in dataloader:\n",
    "        inputs, labels = inputs.to(device), labels.to(device)\n",
    "\n",
    "        optimizer.zero_grad()\n",
    "        outputs = model(inputs)\n",
    "        loss = criterion(outputs, labels.unsqueeze(1).float())\n",
    "        loss.backward()\n",
    "        optimizer.step()\n",
    "\n",
    "        running_loss += loss.item()\n",
    "        predictions = (outputs >= 0.5)\n",
    "        correct_predictions += (predictions == labels.unsqueeze(1)).sum().item()\n",
    "\n",
    "    epoch_loss = running_loss / len(dataloader)\n",
    "    accuracy = correct_predictions / len(dataloader.dataset)\n",
    "\n",
    "    return epoch_loss, accuracy\n"
   ]
  },
  {
   "cell_type": "code",
   "execution_count": 8,
   "metadata": {},
   "outputs": [],
   "source": [
    "# Function for evaluating the model\n",
    "def evaluate(model, dataloader, criterion, device):\n",
    "    model.eval()\n",
    "    running_loss = 0.0\n",
    "    correct_predictions = 0\n",
    "\n",
    "    with torch.no_grad():\n",
    "        for inputs, labels in dataloader:\n",
    "            inputs, labels = inputs.to(device), labels.to(device)\n",
    "\n",
    "            outputs = model(inputs)\n",
    "            loss = criterion(outputs, labels.unsqueeze(1).float())\n",
    "\n",
    "            running_loss += loss.item()\n",
    "            predictions = (outputs >= 0.5)\n",
    "            correct_predictions += (predictions == labels.unsqueeze(1)).sum().item()\n",
    "\n",
    "    epoch_loss = running_loss / len(dataloader)\n",
    "    accuracy = correct_predictions / len(dataloader.dataset)\n",
    "\n",
    "    return epoch_loss, accuracy"
   ]
  },
  {
   "cell_type": "code",
   "execution_count": 9,
   "metadata": {},
   "outputs": [],
   "source": [
    "embedding_size = X_train_source.shape[1]\n",
    "\n",
    "# Set the device (CPU or GPU)\n",
    "device = torch.device('cuda' if torch.cuda.is_available() else 'cpu')\n",
    "model = TextClassificationModel(embedding_size, hidden_size=64)\n",
    "model.to(device)\n",
    "\n",
    "criterion = nn.BCELoss()\n",
    "optimizer = optim.Adam(model.parameters(), lr=0.001)"
   ]
  },
  {
   "cell_type": "code",
   "execution_count": 10,
   "metadata": {},
   "outputs": [
    {
     "name": "stderr",
     "output_type": "stream",
     "text": [
      "  1%|          | 2/200 [00:00<00:39,  5.04it/s]"
     ]
    },
    {
     "name": "stdout",
     "output_type": "stream",
     "text": [
      "Epoch 1/200 - Train Loss: 0.6376, Train Accuracy: 0.6546 - Validation Loss: 0.5869, Validation Accuracy: 0.7160\n"
     ]
    },
    {
     "name": "stderr",
     "output_type": "stream",
     "text": [
      " 26%|██▌       | 51/200 [00:07<00:20,  7.19it/s]"
     ]
    },
    {
     "name": "stdout",
     "output_type": "stream",
     "text": [
      "Epoch 50/200 - Train Loss: 0.4746, Train Accuracy: 0.7722 - Validation Loss: 0.5284, Validation Accuracy: 0.7316\n"
     ]
    },
    {
     "name": "stderr",
     "output_type": "stream",
     "text": [
      " 50%|█████     | 101/200 [00:15<00:13,  7.20it/s]"
     ]
    },
    {
     "name": "stdout",
     "output_type": "stream",
     "text": [
      "Epoch 100/200 - Train Loss: 0.4507, Train Accuracy: 0.7906 - Validation Loss: 0.5434, Validation Accuracy: 0.7200\n"
     ]
    },
    {
     "name": "stderr",
     "output_type": "stream",
     "text": [
      " 76%|███████▌  | 151/200 [00:22<00:06,  7.16it/s]"
     ]
    },
    {
     "name": "stdout",
     "output_type": "stream",
     "text": [
      "Epoch 150/200 - Train Loss: 0.4400, Train Accuracy: 0.7956 - Validation Loss: 0.5544, Validation Accuracy: 0.7156\n"
     ]
    },
    {
     "name": "stderr",
     "output_type": "stream",
     "text": [
      "100%|██████████| 200/200 [00:29<00:00,  6.75it/s]"
     ]
    },
    {
     "name": "stdout",
     "output_type": "stream",
     "text": [
      "Epoch 200/200 - Train Loss: 0.4204, Train Accuracy: 0.8094 - Validation Loss: 0.5754, Validation Accuracy: 0.7164\n"
     ]
    },
    {
     "name": "stderr",
     "output_type": "stream",
     "text": [
      "\n"
     ]
    }
   ],
   "source": [
    "best_test_accuracy = 0\n",
    "\n",
    "for epoch in tqdm(range(200)):\n",
    "\n",
    "    train_loss, train_accuracy = train(model, train_source_loader, criterion, optimizer, device)\n",
    "    val_loss, val_accuracy = evaluate(model, test_source_loader, criterion, device)\n",
    "\n",
    "    if val_accuracy > best_test_accuracy:\n",
    "        torch.save(model, 'results/classifier.pt')\n",
    "\n",
    "    if epoch == 0 or (epoch+1) % 50 == 0:\n",
    "\n",
    "        print(f'Epoch {epoch + 1}/{200} - '\n",
    "            f'Train Loss: {train_loss:.4f}, Train Accuracy: {train_accuracy:.4f} - '\n",
    "            f'Validation Loss: {val_loss:.4f}, Validation Accuracy: {val_accuracy:.4f}')"
   ]
  },
  {
   "cell_type": "markdown",
   "metadata": {},
   "source": [
    "Now let us calculate the prediction accuracy of the model (trained on source data) on the target data.\n"
   ]
  },
  {
   "cell_type": "code",
   "execution_count": 11,
   "metadata": {},
   "outputs": [
    {
     "name": "stdout",
     "output_type": "stream",
     "text": [
      "Source train Loss: 0.4140, Source train Accuracy: 0.8150\n",
      "Source test Loss: 0.5705, Source Accuracy: 0.7164\n",
      "Target test Loss: 0.6727, Target Accuracy: 0.6612\n"
     ]
    }
   ],
   "source": [
    "classifier = torch.load('results/classifier.pt')\n",
    "train_loss, train_accuracy = evaluate(model, train_source_loader, criterion, device)\n",
    "print(f'Source train Loss: {train_loss:.4f}, Source train Accuracy: {train_accuracy:.4f}')\n",
    "\n",
    "test_loss, test_accuracy = evaluate(model, test_source_loader, criterion, device)\n",
    "print(f'Source test Loss: {test_loss:.4f}, Source Accuracy: {test_accuracy:.4f}')\n",
    "\n",
    "val_loss, val_accuracy = evaluate(model, test_target_loader, criterion, device)\n",
    "print(f'Target test Loss: {val_loss:.4f}, Target Accuracy: {val_accuracy:.4f}')"
   ]
  },
  {
   "cell_type": "markdown",
   "metadata": {},
   "source": [
    "## Learn Normalizing Flows from Source and Target Distribution"
   ]
  },
  {
   "cell_type": "markdown",
   "metadata": {},
   "source": [
    "### Source Distribution -> Normal Distribution"
   ]
  },
  {
   "cell_type": "markdown",
   "metadata": {},
   "source": [
    "Set training parameters"
   ]
  },
  {
   "cell_type": "code",
   "execution_count": 30,
   "metadata": {},
   "outputs": [],
   "source": [
    "n_mades = 3\n",
    "hidden_dims = [8]\n",
    "lr = 1e-4\n",
    "weight_decay = 1e-4\n",
    "random_order = False\n",
    "patience = 500\n",
    "seed = 0\n",
    "model_name = 'maf'\n",
    "epochs = 100"
   ]
  },
  {
   "cell_type": "code",
   "execution_count": 31,
   "metadata": {},
   "outputs": [],
   "source": [
    "n_in = X_train_source.shape[1]\n",
    "\n",
    "if model_name.lower() == \"maf\":\n",
    "    source_flow = MAF(n_in, n_mades, hidden_dims)\n",
    "elif model_name.lower() == \"made\":\n",
    "    source_flow = MADE(n_in, hidden_dims, random_order=random_order, seed=seed, gaussian=True)\n",
    "\n",
    "optimiser = torch.optim.Adam(source_flow.parameters(), lr=lr, weight_decay=weight_decay)\n",
    "save_dir = f'results/{model_name}'\n",
    "os.makedirs(save_dir, exist_ok=True)\n",
    "save_name = os.path.join(save_dir, 'source_flow.pt')"
   ]
  },
  {
   "cell_type": "code",
   "execution_count": 32,
   "metadata": {},
   "outputs": [
    {
     "name": "stdout",
     "output_type": "stream",
     "text": [
      "Training...\n"
     ]
    },
    {
     "name": "stderr",
     "output_type": "stream",
     "text": [
      " 10%|█         | 10/100 [00:03<00:29,  3.04it/s]"
     ]
    },
    {
     "name": "stdout",
     "output_type": "stream",
     "text": [
      "\n",
      "======== Epoch 10 / 100 ========\n",
      "Training and validation takes: 0:00:03.\n",
      "\n",
      "Average train loss: 21.99181846425503\n",
      "Average validation loss: 22.385190132904054\n"
     ]
    },
    {
     "name": "stderr",
     "output_type": "stream",
     "text": [
      " 20%|██        | 20/100 [00:06<00:26,  3.07it/s]"
     ]
    },
    {
     "name": "stdout",
     "output_type": "stream",
     "text": [
      "\n",
      "======== Epoch 20 / 100 ========\n",
      "Training and validation takes: 0:00:07.\n",
      "\n",
      "Average train loss: 21.009304143205473\n",
      "Average validation loss: 21.453550407791138\n"
     ]
    },
    {
     "name": "stderr",
     "output_type": "stream",
     "text": [
      " 30%|███       | 30/100 [00:09<00:23,  2.99it/s]"
     ]
    },
    {
     "name": "stdout",
     "output_type": "stream",
     "text": [
      "\n",
      "======== Epoch 30 / 100 ========\n",
      "Training and validation takes: 0:00:10.\n",
      "\n",
      "Average train loss: 19.434695400769197\n",
      "Average validation loss: 19.972150650787352\n"
     ]
    },
    {
     "name": "stderr",
     "output_type": "stream",
     "text": [
      " 40%|████      | 40/100 [00:13<00:19,  3.09it/s]"
     ]
    },
    {
     "name": "stdout",
     "output_type": "stream",
     "text": [
      "\n",
      "======== Epoch 40 / 100 ========\n",
      "Training and validation takes: 0:00:13.\n",
      "\n",
      "Average train loss: 16.20789303357088\n",
      "Average validation loss: 16.62827237739563\n"
     ]
    },
    {
     "name": "stderr",
     "output_type": "stream",
     "text": [
      " 50%|█████     | 50/100 [00:16<00:16,  3.07it/s]"
     ]
    },
    {
     "name": "stdout",
     "output_type": "stream",
     "text": [
      "\n",
      "======== Epoch 50 / 100 ========\n",
      "Training and validation takes: 0:00:16.\n",
      "\n",
      "Average train loss: 12.203410426272622\n",
      "Average validation loss: 13.667342945480346\n"
     ]
    },
    {
     "name": "stderr",
     "output_type": "stream",
     "text": [
      " 60%|██████    | 60/100 [00:19<00:13,  3.01it/s]"
     ]
    },
    {
     "name": "stdout",
     "output_type": "stream",
     "text": [
      "\n",
      "======== Epoch 60 / 100 ========\n",
      "Training and validation takes: 0:00:20.\n",
      "\n",
      "Average train loss: 4.292958567414103\n",
      "Average validation loss: 5.799036517333985\n"
     ]
    },
    {
     "name": "stderr",
     "output_type": "stream",
     "text": [
      " 70%|███████   | 70/100 [00:22<00:09,  3.06it/s]"
     ]
    },
    {
     "name": "stdout",
     "output_type": "stream",
     "text": [
      "\n",
      "======== Epoch 70 / 100 ========\n",
      "Training and validation takes: 0:00:23.\n",
      "\n",
      "Average train loss: -2.3934376601931415\n",
      "Average validation loss: -1.5262059562683106\n"
     ]
    },
    {
     "name": "stderr",
     "output_type": "stream",
     "text": [
      " 80%|████████  | 80/100 [00:26<00:06,  3.08it/s]"
     ]
    },
    {
     "name": "stdout",
     "output_type": "stream",
     "text": [
      "\n",
      "======== Epoch 80 / 100 ========\n",
      "Training and validation takes: 0:00:26.\n",
      "\n",
      "Average train loss: -11.464384579960305\n",
      "Average validation loss: 0.8090283126831055\n"
     ]
    },
    {
     "name": "stderr",
     "output_type": "stream",
     "text": [
      " 90%|█████████ | 90/100 [00:29<00:03,  3.09it/s]"
     ]
    },
    {
     "name": "stdout",
     "output_type": "stream",
     "text": [
      "\n",
      "======== Epoch 90 / 100 ========\n",
      "Training and validation takes: 0:00:29.\n",
      "\n",
      "Average train loss: -18.653248050544835\n",
      "Average validation loss: 6.568806925201416\n"
     ]
    },
    {
     "name": "stderr",
     "output_type": "stream",
     "text": [
      "100%|██████████| 100/100 [00:32<00:00,  3.06it/s]"
     ]
    },
    {
     "name": "stdout",
     "output_type": "stream",
     "text": [
      "\n",
      "======== Epoch 100 / 100 ========\n",
      "Training and validation takes: 0:00:33.\n",
      "\n",
      "Average train loss: -23.901557294628287\n",
      "Average validation loss: 12.185913510131837\n",
      "Training complete!\n",
      "Took 0:00:33.\n"
     ]
    },
    {
     "name": "stderr",
     "output_type": "stream",
     "text": [
      "\n"
     ]
    }
   ],
   "source": [
    "train_losses, val_losses = [], []\n",
    "max_loss = np.inf\n",
    "\n",
    "print(\"Training...\")\n",
    "t0 = time.time()\n",
    "for epoch_i in tqdm(range(epochs)):\n",
    "\n",
    "    if model_name == \"maf\":\n",
    "        train_loss = train_one_epoch_maf(source_flow, optimiser, train_source_loader)\n",
    "        val_loss = val_maf(source_flow, test_source_loader)\n",
    "    elif model_name == \"made\":\n",
    "        train_loss = train_one_epoch_made(source_flow, optimiser, train_source_loader)\n",
    "        val_loss = val_made(source_flow, test_source_loader)\n",
    "    \n",
    "    train_losses.append(train_loss)\n",
    "    val_losses.append(val_loss)\n",
    "\n",
    "    if (epoch_i+1) % 10 == 0:\n",
    "        print(\"\")\n",
    "        print(\"======== Epoch {:} / {:} ========\".format(epoch_i + 1, epochs))\n",
    "        print(f\"Training and validation takes: {format_time(time.time() - t0)}.\")\n",
    "        print(\"\")\n",
    "        print(f\"Average train loss: {train_loss}\")\n",
    "        print(f\"Average validation loss: {val_loss}\")\n",
    "\n",
    "    if val_loss < max_loss:\n",
    "        i = 0\n",
    "        max_loss = val_loss\n",
    "        torch.save(\n",
    "            source_flow, save_name\n",
    "        )  \n",
    "    else:\n",
    "        i += 1\n",
    "\n",
    "    if i >= patience:\n",
    "        print(\"Patience counter: {}/{}\\n Terminate training!\".format(i, patience))\n",
    "        break\n",
    "\n",
    "print(\"Training complete!\")\n",
    "print(f\"Took {format_time(time.time() - t0)}.\")\n",
    "\n"
   ]
  },
  {
   "cell_type": "markdown",
   "metadata": {},
   "source": [
    "### Target Distribution -> Normal Distribution"
   ]
  },
  {
   "cell_type": "code",
   "execution_count": 33,
   "metadata": {},
   "outputs": [],
   "source": [
    "n_in = X_train_target.shape[1]\n",
    "\n",
    "if model_name.lower() == \"maf\":\n",
    "    target_flow = MAF(n_in, n_mades, hidden_dims)\n",
    "elif model_name.lower() == \"made\":\n",
    "    target_flow = MADE(n_in, hidden_dims, random_order=random_order, seed=seed, gaussian=True)\n",
    "\n",
    "optimiser = torch.optim.Adam(target_flow.parameters(), lr=lr, weight_decay=weight_decay)\n",
    "save_dir = f'results/{model_name}'\n",
    "os.makedirs(save_dir, exist_ok=True)\n",
    "save_name = os.path.join(save_dir, 'target_flow.pt')"
   ]
  },
  {
   "cell_type": "code",
   "execution_count": 41,
   "metadata": {},
   "outputs": [
    {
     "name": "stdout",
     "output_type": "stream",
     "text": [
      "Training...\n"
     ]
    },
    {
     "name": "stderr",
     "output_type": "stream",
     "text": [
      " 10%|█         | 10/100 [00:02<00:24,  3.73it/s]"
     ]
    },
    {
     "name": "stdout",
     "output_type": "stream",
     "text": [
      "\n",
      "======== Epoch 10 / 100 ========\n",
      "Training and validation takes: 0:00:03.\n",
      "\n",
      "Average train loss: -31.935440932648092\n",
      "Average validation loss: 914.3177624565125\n"
     ]
    },
    {
     "name": "stderr",
     "output_type": "stream",
     "text": [
      " 20%|██        | 20/100 [00:05<00:21,  3.78it/s]"
     ]
    },
    {
     "name": "stdout",
     "output_type": "stream",
     "text": [
      "\n",
      "======== Epoch 20 / 100 ========\n",
      "Training and validation takes: 0:00:05.\n",
      "\n",
      "Average train loss: -31.913618546497972\n",
      "Average validation loss: -14.22830612411499\n"
     ]
    },
    {
     "name": "stderr",
     "output_type": "stream",
     "text": [
      " 26%|██▌       | 26/100 [00:07<00:20,  3.61it/s]\n"
     ]
    },
    {
     "ename": "KeyboardInterrupt",
     "evalue": "",
     "output_type": "error",
     "traceback": [
      "\u001b[0;31m---------------------------------------------------------------------------\u001b[0m",
      "\u001b[0;31mKeyboardInterrupt\u001b[0m                         Traceback (most recent call last)",
      "Cell \u001b[0;32mIn[41], line 10\u001b[0m\n\u001b[1;32m      8\u001b[0m \u001b[38;5;28;01mif\u001b[39;00m model_name \u001b[38;5;241m==\u001b[39m \u001b[38;5;124m\"\u001b[39m\u001b[38;5;124mmaf\u001b[39m\u001b[38;5;124m\"\u001b[39m:\n\u001b[1;32m      9\u001b[0m     train_loss \u001b[38;5;241m=\u001b[39m train_one_epoch_maf(target_flow, optimiser, train_target_loader)\n\u001b[0;32m---> 10\u001b[0m     val_loss \u001b[38;5;241m=\u001b[39m \u001b[43mval_maf\u001b[49m\u001b[43m(\u001b[49m\u001b[43mtarget_flow\u001b[49m\u001b[43m,\u001b[49m\u001b[43m \u001b[49m\u001b[43mtest_target_loader\u001b[49m\u001b[43m)\u001b[49m\n\u001b[1;32m     11\u001b[0m \u001b[38;5;28;01melif\u001b[39;00m model_name \u001b[38;5;241m==\u001b[39m \u001b[38;5;124m\"\u001b[39m\u001b[38;5;124mmade\u001b[39m\u001b[38;5;124m\"\u001b[39m:\n\u001b[1;32m     12\u001b[0m     train_loss \u001b[38;5;241m=\u001b[39m train_one_epoch_made(target_flow, optimiser, train_target_loader)\n",
      "File \u001b[0;32m~/UDA/utils/validation.py:11\u001b[0m, in \u001b[0;36mval_maf\u001b[0;34m(model, val_loader)\u001b[0m\n\u001b[1;32m      8\u001b[0m val_loss \u001b[39m=\u001b[39m []\n\u001b[1;32m     10\u001b[0m \u001b[39mfor\u001b[39;00m batch, _ \u001b[39min\u001b[39;00m val_loader:\n\u001b[0;32m---> 11\u001b[0m     u, log_det \u001b[39m=\u001b[39m model\u001b[39m.\u001b[39;49mforward(batch\u001b[39m.\u001b[39;49mfloat())\n\u001b[1;32m     12\u001b[0m     negloglik_loss \u001b[39m=\u001b[39m \u001b[39m0.5\u001b[39m \u001b[39m*\u001b[39m (u \u001b[39m*\u001b[39m\u001b[39m*\u001b[39m \u001b[39m2\u001b[39m)\u001b[39m.\u001b[39msum(dim\u001b[39m=\u001b[39m\u001b[39m1\u001b[39m)\n\u001b[1;32m     13\u001b[0m     negloglik_loss \u001b[39m+\u001b[39m\u001b[39m=\u001b[39m \u001b[39m0.5\u001b[39m \u001b[39m*\u001b[39m batch\u001b[39m.\u001b[39mshape[\u001b[39m1\u001b[39m] \u001b[39m*\u001b[39m np\u001b[39m.\u001b[39mlog(\u001b[39m2\u001b[39m \u001b[39m*\u001b[39m math\u001b[39m.\u001b[39mpi)\n",
      "File \u001b[0;32m~/UDA/normalizing_flow.py:275\u001b[0m, in \u001b[0;36mMAF.forward\u001b[0;34m(self, x)\u001b[0m\n\u001b[1;32m    273\u001b[0m \u001b[39mfor\u001b[39;00m layer \u001b[39min\u001b[39;00m \u001b[39mself\u001b[39m\u001b[39m.\u001b[39mlayers:\n\u001b[1;32m    274\u001b[0m     x, log_det \u001b[39m=\u001b[39m layer(x)\n\u001b[0;32m--> 275\u001b[0m     log_det_sum \u001b[39m+\u001b[39m\u001b[39m=\u001b[39m log_det\n\u001b[1;32m    277\u001b[0m \u001b[39mreturn\u001b[39;00m x, log_det_sum\n",
      "\u001b[0;31mKeyboardInterrupt\u001b[0m: "
     ]
    }
   ],
   "source": [
    "train_losses, val_losses = [], []\n",
    "max_loss = np.inf\n",
    "\n",
    "print(\"Training...\")\n",
    "t0 = time.time()\n",
    "for epoch_i in tqdm(range(epochs)):\n",
    "\n",
    "    if model_name == \"maf\":\n",
    "        train_loss = train_one_epoch_maf(target_flow, optimiser, train_target_loader)\n",
    "        val_loss = val_maf(target_flow, test_target_loader)\n",
    "    elif model_name == \"made\":\n",
    "        train_loss = train_one_epoch_made(target_flow, optimiser, train_target_loader)\n",
    "        val_loss = val_made(target_flow, test_target_loader)\n",
    "    \n",
    "    train_losses.append(train_loss)\n",
    "    val_losses.append(val_loss)\n",
    "\n",
    "    if (epoch_i+1) % 10 == 0:\n",
    "\n",
    "        print(\"\")\n",
    "        print(\"======== Epoch {:} / {:} ========\".format(epoch_i + 1, epochs))\n",
    "        print(f\"Training and validation takes: {format_time(time.time() - t0)}.\")\n",
    "        print(\"\")\n",
    "        print(f\"Average train loss: {train_loss}\")\n",
    "        print(f\"Average validation loss: {val_loss}\")\n",
    "\n",
    "    if val_loss < max_loss:\n",
    "        i = 0\n",
    "        max_loss = val_loss\n",
    "        torch.save(\n",
    "            target_flow, save_name\n",
    "        )  \n",
    "    else:\n",
    "        i += 1\n",
    "\n",
    "    if i >= patience:\n",
    "        print(\"Patience counter: {}/{}\\n Terminate training!\".format(i, patience))\n",
    "        break\n",
    "\n",
    "print(\"Training complete!\")\n",
    "print(f\"Took {format_time(time.time() - t0)}.\")\n",
    "\n"
   ]
  },
  {
   "cell_type": "markdown",
   "metadata": {},
   "source": [
    "Now let us normalize the test source and target data."
   ]
  },
  {
   "cell_type": "code",
   "execution_count": 43,
   "metadata": {},
   "outputs": [
    {
     "name": "stdout",
     "output_type": "stream",
     "text": [
      "torch.Size([2500, 16]) torch.Size([2500, 16])\n"
     ]
    }
   ],
   "source": [
    "X_test_source = torch.Tensor(X_test_source)\n",
    "X_test_target = torch.Tensor(X_test_target)\n",
    "\n",
    "with torch.no_grad():\n",
    "    normalized_X_test_source, _ = source_flow(X_test_source)\n",
    "    normalized_X_test_target, _ = source_flow(X_test_target)\n",
    "\n",
    "print(normalized_X_test_source.shape, normalized_X_test_target.shape)"
   ]
  },
  {
   "cell_type": "code",
   "execution_count": 69,
   "metadata": {},
   "outputs": [
    {
     "data": {
      "image/png": "[encoded data removed]",
      "text/plain": [
       "<Figure size 1500x700 with 10 Axes>"
      ]
     },
     "metadata": {},
     "output_type": "display_data"
    }
   ],
   "source": [
    "from scipy import stats\n",
    "\n",
    "comps = np.random.choice(normalized_X_test_source.shape[1], 5, replace=False) \n",
    "\n",
    "# Create subplots for multiple Q-Q plots\n",
    "fig, axes = plt.subplots(2, 5, figsize=(15, 7))\n",
    "\n",
    "for i,c in enumerate(comps):\n",
    "\n",
    "    stats.probplot(normalized_X_test_source[:,c], dist=\"norm\", plot=axes[0,i])\n",
    "    axes[0,i].set_title(f'Source component - {c}', fontsize=15)\n",
    "\n",
    "for i,c in enumerate(comps):\n",
    "\n",
    "    stats.probplot(normalized_X_test_target[:,c], dist=\"norm\", plot=axes[1,i])\n",
    "    axes[1,i].set_title(f'Target component - {c}', fontsize=15)\n",
    "\n",
    "\n",
    "plt.tight_layout()\n",
    "plt.show()\n"
   ]
  },
  {
   "cell_type": "markdown",
   "metadata": {},
   "source": [
    "Now let us check if transporting the source distribution to target distribution improves the prediction accuracy using the classifier learned on the source data."
   ]
  },
  {
   "cell_type": "code",
   "execution_count": 58,
   "metadata": {},
   "outputs": [],
   "source": [
    "source_flow = torch.load('results/maf/source_flow.pt')\n",
    "target_flow = torch.load('results/maf/target_flow.pt')\n",
    "classifier = torch.load('results/classifier.pt').to('cpu')\n",
    "criterion = nn.BCELoss()\n",
    "\n",
    "\n",
    "with torch.no_grad():\n",
    "    normalized_X_test_target, _ = target_flow(X_test_target)\n",
    "    transpoted_X_test_target, _ = source_flow.backward(normalized_X_test_target)\n"
   ]
  },
  {
   "cell_type": "code",
   "execution_count": 59,
   "metadata": {},
   "outputs": [
    {
     "name": "stdout",
     "output_type": "stream",
     "text": [
      "Predictions on source test data using classifier trained on source data:\n",
      "Loss: 0.5657579302787781, Accuracy: 0.7164\n",
      "\n",
      "Predictions on target test data using classifier trained on source data:\n",
      "Loss: 0.6749739050865173, Accuracy: 0.6612\n"
     ]
    }
   ],
   "source": [
    "with torch.no_grad():\n",
    "    outputs = classifier(X_test_source)\n",
    "    loss = criterion(outputs, torch.tensor(y_test_source).unsqueeze(1).float())\n",
    "\n",
    "predictions = (outputs >= 0.5)\n",
    "correct_predictions = (predictions == torch.tensor(y_test_source).unsqueeze(1)).sum().item()/y_test_source.shape[0]\n",
    "print(f'Predictions on source test data using classifier trained on source data:')\n",
    "print(f'Loss: {loss.item()}, Accuracy: {correct_predictions}')\n",
    "\n",
    "with torch.no_grad():\n",
    "    outputs = classifier(X_test_target)\n",
    "    loss = criterion(outputs, torch.tensor(y_test_target).unsqueeze(1).float())\n",
    "\n",
    "predictions = (outputs >= 0.5)\n",
    "correct_predictions = (predictions == torch.tensor(y_test_target).unsqueeze(1)).sum().item()/y_test_target.shape[0]\n",
    "print(f'\\nPredictions on target test data using classifier trained on source data:')\n",
    "print(f'Loss: {loss.item()}, Accuracy: {correct_predictions}')"
   ]
  },
  {
   "cell_type": "code",
   "execution_count": 60,
   "metadata": {},
   "outputs": [
    {
     "name": "stdout",
     "output_type": "stream",
     "text": [
      "Predictions on target test data using transported target data:\n",
      "\n",
      "Loss: 0.6959940195083618, Accuracy: 0.5712\n"
     ]
    }
   ],
   "source": [
    "with torch.no_grad():\n",
    "    outputs = classifier(transpoted_X_test_target)\n",
    "    loss = criterion(outputs, torch.tensor(y_test_target).unsqueeze(1).float())\n",
    "\n",
    "predictions = (outputs >= 0.5)\n",
    "correct_predictions = (predictions == torch.tensor(y_test_target).unsqueeze(1)).sum().item()/y_test_target.shape[0]\n",
    "print(f'Predictions on target test data using transported target data:\\n')\n",
    "print(f'Loss: {loss.item()}, Accuracy: {correct_predictions}')"
   ]
  },
  {
   "cell_type": "code",
   "execution_count": null,
   "metadata": {},
   "outputs": [],
   "source": []
  }
 ],
 "metadata": {
  "kernelspec": {
   "display_name": "Python 3.10.13 ('wildlife')",
   "language": "python",
   "name": "python3"
  },
  "language_info": {
   "codemirror_mode": {
    "name": "ipython",
    "version": 3
   },
   "file_extension": ".py",
   "mimetype": "text/x-python",
   "name": "python",
   "nbconvert_exporter": "python",
   "pygments_lexer": "ipython3",
   "version": "3.10.13"
  },
  "orig_nbformat": 4,
  "vscode": {
   "interpreter": {
    "hash": "2b10d533ec9c3c114c7e3be0b60027fd8c2557fa894369e5e67088e5e66ae752"
   }
  }
 },
 "nbformat": 4,
 "nbformat_minor": 2
}
